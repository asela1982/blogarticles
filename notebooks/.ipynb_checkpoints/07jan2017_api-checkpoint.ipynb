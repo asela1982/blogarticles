{
 "cells": [
  {
   "cell_type": "markdown",
   "metadata": {},
   "source": [
    "In this blog post lets discuss the walk-through steps involved in gathering data from an API using the Python programming language. Steps involved in this analysis are as follows:\n",
    "\n",
    "1. Select the API\n",
    "2. Select an Endpoint in order to retrive the data\n",
    "3. Make Requests to retrive the data\n",
    "4. Populate the data to a pandas dataframe\n",
    "5. Visualize and gather insights\n",
    "\n",
    "Lets first understand about API's. The acronym API stands for Application Progamming Interface. APIs allow different programs to interact with each other. Imagine an API as the middle man between the programmer(in our context the data analyst) and the application. The middle man accepts requsts and if that request is allowed, returns data. The middle man also lets the programmer know what sort of data that they can request, how to ask for it, and how to retrive it. The whole process is pretty much similar to ordering a Cappuccino from your local coffee shop(refer diagram below)."
   ]
  },
  {
   "cell_type": "markdown",
   "metadata": {},
   "source": [
    "<img src=\"../Resouces/images/07jan2017/api.jpeg\">"
   ]
  },
  {
   "cell_type": "markdown",
   "metadata": {},
   "source": [
    "Select the API  \n",
    "Lets assume that we are interested in understanding the income distribution of different countries in the world. We can probably use the data API provided by the world bank using the link https://datahelpdesk.worldbank.org/knowledgebase/topics/125589-developer-information. This particular API doesnt require us to register for an API key."
   ]
  },
  {
   "cell_type": "markdown",
   "metadata": {},
   "source": [
    "Select an Endpoint in order to retrive the data  \n",
    "All data API endpoints begin with http://api.worldbank.org/v2/ or https://api.worldbank.org/v2/. \n",
    "As per the documenation we can learn that the The API: Country Queries endpoint provides the following information which includes the income level:\n",
    "\n",
    "3 letter ISO 3166-1 alpha-3 code code   \n",
    "2 letter ISO 3166-1 alpha-2 code code   \n",
    "Name  \n",
    "Region id   \n",
    "Region Name   \n",
    "Income Level   \n",
    "Lending Type   \n",
    "Capital City   \n",
    "Longitude   \n",
    "Latitude   "
   ]
  },
  {
   "cell_type": "markdown",
   "metadata": {},
   "source": [
    "<img src=\"../Resouces/images/07jan2017/worldbankapi.png\">"
   ]
  },
  {
   "cell_type": "markdown",
   "metadata": {},
   "source": [
    "Make Requests to retrive the data"
   ]
  },
  {
   "cell_type": "code",
   "execution_count": 18,
   "metadata": {},
   "outputs": [
    {
     "name": "stdout",
     "output_type": "stream",
     "text": [
      "status code :200\n",
      "url :http://api.worldbank.org/v2//countries?format=json\n"
     ]
    }
   ],
   "source": [
    "# Import the relevant libraries\n",
    "import requests\n",
    "import pandas as pd\n",
    "import json\n",
    "\n",
    "# Construct the query\n",
    "base_endpoint = \"http://api.worldbank.org/v2/\"\n",
    "method = \"/countries\" \n",
    "\n",
    "# Configuration\n",
    "params = {\n",
    "            \"format\" : \"json\", # we require the response in json format\n",
    "         }\n",
    "# request the url and store the response in a variable\n",
    "response = requests.get(base_endpoint+method,params=params)\n",
    "# print out the status code attribute of the response object\n",
    "print(f\"status code :{response.status_code}\") \n",
    "# print out the status code attribute of the response object\n",
    "print(f\"url :{response.url}\") "
   ]
  },
  {
   "cell_type": "markdown",
   "metadata": {},
   "source": [
    "The HTTP status code we received for our request is 200 which is the standard response for a successful HTTP request(https://en.wikipedia.org/wiki/List_of_HTTP_status_codes).\n",
    "We can view the json-encoded content of the response using the url attribute associated with the response object using a broswer like google chrome. Recommend installing the JSON view extension using the google chrome manage extensions. In this particular instance, the response is a list with first element with all the meta data and the second element contains the list of dictionaries for the data that we want to extract. We also can view the json-encoded content using the json method associated with the reponse object. "
   ]
  },
  {
   "cell_type": "code",
   "execution_count": 19,
   "metadata": {},
   "outputs": [
    {
     "name": "stdout",
     "output_type": "stream",
     "text": [
      "meta data of the response :{'page': 1, 'pages': 7, 'per_page': '50', 'total': 304}\n"
     ]
    }
   ],
   "source": [
    "# print the first dictionary of the first element of the list. \n",
    "# In this particular instance it has the meta data corresponding to the the reponse we received.\n",
    "print(f\"meta data of the response :{response.json()[0]}\")"
   ]
  },
  {
   "cell_type": "code",
   "execution_count": 20,
   "metadata": {},
   "outputs": [
    {
     "name": "stdout",
     "output_type": "stream",
     "text": [
      "data retrived for the first element :{'id': 'AFG', 'iso2Code': 'AF', 'name': 'Afghanistan', 'region': {'id': 'SAS', 'iso2code': '8S', 'value': 'South Asia'}, 'adminregion': {'id': 'SAS', 'iso2code': '8S', 'value': 'South Asia'}, 'incomeLevel': {'id': 'LIC', 'iso2code': 'XM', 'value': 'Low income'}, 'lendingType': {'id': 'IDX', 'iso2code': 'XI', 'value': 'IDA'}, 'capitalCity': 'Kabul', 'longitude': '69.1761', 'latitude': '34.5228'}\n"
     ]
    }
   ],
   "source": [
    "# print the first dictionary of the second element of the list. \n",
    "# In this particular instance it has country data for the country Afghanistan\n",
    "print(f\"data retrived for the first element :{response.json()[1][1]}\")"
   ]
  },
  {
   "cell_type": "markdown",
   "metadata": {},
   "source": [
    "Now we need to decide what data fields we are interested in before we populate the data to a Pandas dataframe. In this particular instance we might be interested in the following fields: iso2code of the country, name of the country, value of the income level"
   ]
  },
  {
   "cell_type": "code",
   "execution_count": 21,
   "metadata": {},
   "outputs": [
    {
     "name": "stdout",
     "output_type": "stream",
     "text": [
      "AF\n",
      "Afghanistan\n",
      "Low income\n"
     ]
    }
   ],
   "source": [
    "# get the iso2code and the name\n",
    "print(response.json()[1][1]['iso2Code'])\n",
    "print(response.json()[1][1]['name'])\n",
    "# get the value of the income level field\n",
    "print(response.json()[1][1]['incomeLevel']['value'])"
   ]
  },
  {
   "cell_type": "markdown",
   "metadata": {},
   "source": [
    "Using a python for-loop we will populate the above data for each country to an empty list"
   ]
  },
  {
   "cell_type": "code",
   "execution_count": 22,
   "metadata": {},
   "outputs": [],
   "source": [
    "# lets store the list of dictionaries with the information for all the countries in a python variable called countries\n",
    "countries = response.json()[1]\n",
    "\n",
    "# initialize an empty list to store the dictionaries for all the countries\n",
    "mylist = [] \n",
    " \n",
    "# loop through each country\n",
    "for country in countries:\n",
    "    mydict = {} # initialize an empty dictionary to store data for each country\n",
    "    mydict['iso2code']=country['iso2Code']\n",
    "    mydict['name']=country['name']\n",
    "    mydict['incomelevel']=country['incomeLevel']['value']\n",
    "    mylist.append(mydict) # append the dictionary to mylist"
   ]
  },
  {
   "cell_type": "markdown",
   "metadata": {},
   "source": [
    "We can convert the list to a pandas dataframe using the pd.Dataframe(list of dictionaries). After observing the shape of the the dataframe, we can notice that data from only 50 countries are retrived from the API request. We also know that there were 304 countries in the dataset based on the metadata. It seems that the request had only retrived information for one page where as the data sets spans for 7 pages. We will now tweak our query to incorporate a for loop to loop through each of the the 7 pages."
   ]
  },
  {
   "cell_type": "code",
   "execution_count": 23,
   "metadata": {},
   "outputs": [
    {
     "data": {
      "text/plain": [
       "(50, 3)"
      ]
     },
     "metadata": {},
     "output_type": "display_data"
    },
    {
     "data": {
      "text/html": [
       "<div>\n",
       "<style>\n",
       "    .dataframe thead tr:only-child th {\n",
       "        text-align: right;\n",
       "    }\n",
       "\n",
       "    .dataframe thead th {\n",
       "        text-align: left;\n",
       "    }\n",
       "\n",
       "    .dataframe tbody tr th {\n",
       "        vertical-align: top;\n",
       "    }\n",
       "</style>\n",
       "<table border=\"1\" class=\"dataframe\">\n",
       "  <thead>\n",
       "    <tr style=\"text-align: right;\">\n",
       "      <th></th>\n",
       "      <th>incomelevel</th>\n",
       "      <th>iso2code</th>\n",
       "      <th>name</th>\n",
       "    </tr>\n",
       "  </thead>\n",
       "  <tbody>\n",
       "    <tr>\n",
       "      <th>0</th>\n",
       "      <td>High income</td>\n",
       "      <td>AW</td>\n",
       "      <td>Aruba</td>\n",
       "    </tr>\n",
       "    <tr>\n",
       "      <th>1</th>\n",
       "      <td>Low income</td>\n",
       "      <td>AF</td>\n",
       "      <td>Afghanistan</td>\n",
       "    </tr>\n",
       "    <tr>\n",
       "      <th>2</th>\n",
       "      <td>Aggregates</td>\n",
       "      <td>A9</td>\n",
       "      <td>Africa</td>\n",
       "    </tr>\n",
       "    <tr>\n",
       "      <th>3</th>\n",
       "      <td>Lower middle income</td>\n",
       "      <td>AO</td>\n",
       "      <td>Angola</td>\n",
       "    </tr>\n",
       "    <tr>\n",
       "      <th>4</th>\n",
       "      <td>Upper middle income</td>\n",
       "      <td>AL</td>\n",
       "      <td>Albania</td>\n",
       "    </tr>\n",
       "  </tbody>\n",
       "</table>\n",
       "</div>"
      ],
      "text/plain": [
       "           incomelevel iso2code         name\n",
       "0          High income       AW        Aruba\n",
       "1           Low income       AF  Afghanistan\n",
       "2           Aggregates       A9       Africa\n",
       "3  Lower middle income       AO       Angola\n",
       "4  Upper middle income       AL      Albania"
      ]
     },
     "metadata": {},
     "output_type": "display_data"
    }
   ],
   "source": [
    "# convert the list of dictionaries to a pandas dataframe\n",
    "df = pd.DataFrame(mylist)\n",
    "display(df.shape)\n",
    "display(df.head())"
   ]
  },
  {
   "cell_type": "code",
   "execution_count": 24,
   "metadata": {},
   "outputs": [],
   "source": [
    "# initialize an empty list to store the dictionaries for all the countries\n",
    "mylist = [] \n",
    "\n",
    "# loop through each page upto 7 pages\n",
    "for page in list(range(1,8)):\n",
    "\n",
    "    # Construct the query\n",
    "    base_endpoint = \"http://api.worldbank.org/v2/\"\n",
    "    method = \"/countries\" \n",
    "\n",
    "    # Configuration\n",
    "    params = {\n",
    "                \"format\" : \"json\", # we require the response in json format\n",
    "                \"page\" : page, # we need to include the additional parameter\n",
    "             }\n",
    "    # request the url and store the response in a variable\n",
    "    response = requests.get(base_endpoint+method,params=params)\n",
    "    \n",
    "    countries = response.json()[1]\n",
    "    \n",
    "    # loop through each country\n",
    "    for country in countries:\n",
    "        mydict = {} # initialize an empty dictionary to store data for each country\n",
    "        mydict['iso2code']=country['iso2Code']\n",
    "        mydict['name']=country['name']\n",
    "        mydict['incomelevel']=country['incomeLevel']['value']\n",
    "        mylist.append(mydict) # append the dictionary to mylist"
   ]
  },
  {
   "cell_type": "code",
   "execution_count": 25,
   "metadata": {},
   "outputs": [
    {
     "data": {
      "text/plain": [
       "(304, 3)"
      ]
     },
     "metadata": {},
     "output_type": "display_data"
    },
    {
     "data": {
      "text/html": [
       "<div>\n",
       "<style>\n",
       "    .dataframe thead tr:only-child th {\n",
       "        text-align: right;\n",
       "    }\n",
       "\n",
       "    .dataframe thead th {\n",
       "        text-align: left;\n",
       "    }\n",
       "\n",
       "    .dataframe tbody tr th {\n",
       "        vertical-align: top;\n",
       "    }\n",
       "</style>\n",
       "<table border=\"1\" class=\"dataframe\">\n",
       "  <thead>\n",
       "    <tr style=\"text-align: right;\">\n",
       "      <th></th>\n",
       "      <th>incomelevel</th>\n",
       "      <th>iso2code</th>\n",
       "      <th>name</th>\n",
       "    </tr>\n",
       "  </thead>\n",
       "  <tbody>\n",
       "    <tr>\n",
       "      <th>0</th>\n",
       "      <td>High income</td>\n",
       "      <td>AW</td>\n",
       "      <td>Aruba</td>\n",
       "    </tr>\n",
       "    <tr>\n",
       "      <th>1</th>\n",
       "      <td>Low income</td>\n",
       "      <td>AF</td>\n",
       "      <td>Afghanistan</td>\n",
       "    </tr>\n",
       "    <tr>\n",
       "      <th>2</th>\n",
       "      <td>Aggregates</td>\n",
       "      <td>A9</td>\n",
       "      <td>Africa</td>\n",
       "    </tr>\n",
       "    <tr>\n",
       "      <th>3</th>\n",
       "      <td>Lower middle income</td>\n",
       "      <td>AO</td>\n",
       "      <td>Angola</td>\n",
       "    </tr>\n",
       "    <tr>\n",
       "      <th>4</th>\n",
       "      <td>Upper middle income</td>\n",
       "      <td>AL</td>\n",
       "      <td>Albania</td>\n",
       "    </tr>\n",
       "  </tbody>\n",
       "</table>\n",
       "</div>"
      ],
      "text/plain": [
       "           incomelevel iso2code         name\n",
       "0          High income       AW        Aruba\n",
       "1           Low income       AF  Afghanistan\n",
       "2           Aggregates       A9       Africa\n",
       "3  Lower middle income       AO       Angola\n",
       "4  Upper middle income       AL      Albania"
      ]
     },
     "metadata": {},
     "output_type": "display_data"
    }
   ],
   "source": [
    "# convert the list of dictionaries to a pandas dataframe\n",
    "df = pd.DataFrame(mylist)\n",
    "display(df.shape)\n",
    "display(df.head())"
   ]
  },
  {
   "cell_type": "markdown",
   "metadata": {},
   "source": [
    "Visualize and gather insights  \n",
    "Good job in extracting the data! Now let's start the fun part of exploring, visulaizing, and gathering insights about the data we just collected."
   ]
  },
  {
   "cell_type": "code",
   "execution_count": 26,
   "metadata": {},
   "outputs": [],
   "source": [
    "# import dependencies\n",
    "import matplotlib.pyplot as plt\n",
    "import seaborn as sns"
   ]
  },
  {
   "cell_type": "code",
   "execution_count": 27,
   "metadata": {},
   "outputs": [
    {
     "data": {
      "text/plain": [
       "Aggregates             86\n",
       "High income            78\n",
       "Upper middle income    56\n",
       "Lower middle income    53\n",
       "Low income             31\n",
       "Name: incomelevel, dtype: int64"
      ]
     },
     "execution_count": 27,
     "metadata": {},
     "output_type": "execute_result"
    }
   ],
   "source": [
    "df['incomelevel'].value_counts()"
   ]
  },
  {
   "cell_type": "code",
   "execution_count": 28,
   "metadata": {},
   "outputs": [
    {
     "data": {
      "text/html": [
       "<div>\n",
       "<style>\n",
       "    .dataframe thead tr:only-child th {\n",
       "        text-align: right;\n",
       "    }\n",
       "\n",
       "    .dataframe thead th {\n",
       "        text-align: left;\n",
       "    }\n",
       "\n",
       "    .dataframe tbody tr th {\n",
       "        vertical-align: top;\n",
       "    }\n",
       "</style>\n",
       "<table border=\"1\" class=\"dataframe\">\n",
       "  <thead>\n",
       "    <tr style=\"text-align: right;\">\n",
       "      <th></th>\n",
       "      <th>incomelevel</th>\n",
       "      <th>iso2code</th>\n",
       "      <th>name</th>\n",
       "    </tr>\n",
       "  </thead>\n",
       "  <tbody>\n",
       "    <tr>\n",
       "      <th>2</th>\n",
       "      <td>Aggregates</td>\n",
       "      <td>A9</td>\n",
       "      <td>Africa</td>\n",
       "    </tr>\n",
       "    <tr>\n",
       "      <th>6</th>\n",
       "      <td>Aggregates</td>\n",
       "      <td>L5</td>\n",
       "      <td>Andean Region</td>\n",
       "    </tr>\n",
       "    <tr>\n",
       "      <th>7</th>\n",
       "      <td>Aggregates</td>\n",
       "      <td>1A</td>\n",
       "      <td>Arab World</td>\n",
       "    </tr>\n",
       "    <tr>\n",
       "      <th>17</th>\n",
       "      <td>Aggregates</td>\n",
       "      <td>B4</td>\n",
       "      <td>East Asia &amp; Pacific (IBRD-only countries)</td>\n",
       "    </tr>\n",
       "    <tr>\n",
       "      <th>18</th>\n",
       "      <td>Aggregates</td>\n",
       "      <td>B7</td>\n",
       "      <td>Europe &amp; Central Asia (IBRD-only countries)</td>\n",
       "    </tr>\n",
       "    <tr>\n",
       "      <th>24</th>\n",
       "      <td>Aggregates</td>\n",
       "      <td>B1</td>\n",
       "      <td>IBRD countries classified as high income</td>\n",
       "    </tr>\n",
       "    <tr>\n",
       "      <th>28</th>\n",
       "      <td>Aggregates</td>\n",
       "      <td>B2</td>\n",
       "      <td>Latin America &amp; the Caribbean (IBRD-only count...</td>\n",
       "    </tr>\n",
       "    <tr>\n",
       "      <th>31</th>\n",
       "      <td>Aggregates</td>\n",
       "      <td>B3</td>\n",
       "      <td>Middle East &amp; North Africa (IBRD-only countries)</td>\n",
       "    </tr>\n",
       "    <tr>\n",
       "      <th>37</th>\n",
       "      <td>Aggregates</td>\n",
       "      <td>B6</td>\n",
       "      <td>Sub-Saharan Africa (IBRD-only countries)</td>\n",
       "    </tr>\n",
       "    <tr>\n",
       "      <th>40</th>\n",
       "      <td>Aggregates</td>\n",
       "      <td>C9</td>\n",
       "      <td>Sub-Saharan Africa (IFC classification)</td>\n",
       "    </tr>\n",
       "  </tbody>\n",
       "</table>\n",
       "</div>"
      ],
      "text/plain": [
       "   incomelevel iso2code                                               name\n",
       "2   Aggregates       A9                                             Africa\n",
       "6   Aggregates       L5                                      Andean Region\n",
       "7   Aggregates       1A                                         Arab World\n",
       "17  Aggregates       B4          East Asia & Pacific (IBRD-only countries)\n",
       "18  Aggregates       B7        Europe & Central Asia (IBRD-only countries)\n",
       "24  Aggregates       B1           IBRD countries classified as high income\n",
       "28  Aggregates       B2  Latin America & the Caribbean (IBRD-only count...\n",
       "31  Aggregates       B3   Middle East & North Africa (IBRD-only countries)\n",
       "37  Aggregates       B6           Sub-Saharan Africa (IBRD-only countries)\n",
       "40  Aggregates       C9            Sub-Saharan Africa (IFC classification)"
      ]
     },
     "execution_count": 28,
     "metadata": {},
     "output_type": "execute_result"
    }
   ],
   "source": [
    "df[df['incomelevel']=='Aggregates'].head(10)"
   ]
  },
  {
   "cell_type": "markdown",
   "metadata": {},
   "source": [
    "A simple value_counts reveal that there are 86 data records that have aggregate as an income level. After exploring, we can observe that the data records are not associated with country level. Hence lets drop these rows. "
   ]
  },
  {
   "cell_type": "code",
   "execution_count": 29,
   "metadata": {},
   "outputs": [],
   "source": [
    "# drop the rows showing income level as aggregate\n",
    "df = df.drop(df[df['incomelevel']=='Aggregates'].index)"
   ]
  },
  {
   "cell_type": "code",
   "execution_count": 30,
   "metadata": {},
   "outputs": [
    {
     "data": {
      "text/plain": [
       "(218, 3)"
      ]
     },
     "execution_count": 30,
     "metadata": {},
     "output_type": "execute_result"
    }
   ],
   "source": [
    "df.shape"
   ]
  },
  {
   "cell_type": "markdown",
   "metadata": {},
   "source": [
    "Now the dataframe has only 217 data records which is a reasoable figure for the number of countries of the world. Now lets plot the distribution plot by income level."
   ]
  },
  {
   "cell_type": "code",
   "execution_count": 38,
   "metadata": {},
   "outputs": [
    {
     "data": {
      "text/plain": [
       "<matplotlib.figure.Figure at 0x10e860f28>"
      ]
     },
     "metadata": {},
     "output_type": "display_data"
    },
    {
     "data": {
      "image/png": "[encoded data removed]",
      "text/plain": [
       "<matplotlib.figure.Figure at 0x10e475128>"
      ]
     },
     "metadata": {},
     "output_type": "display_data"
    }
   ],
   "source": [
    "plt.figure(figsize=(10,8))\n",
    "sns.set(style=\"darkgrid\")\n",
    "_ = sns.countplot(x=\"incomelevel\", data=df)\n",
    "_ = plt.ylabel('Number of Countries')\n",
    "_ = plt.xlabel('Income Level')\n",
    "plt.savefig('../Resouces/images/07jan2017/income.png',dpi=300, bbox_inches='tight')\n",
    "plt.show()"
   ]
  },
  {
   "cell_type": "code",
   "execution_count": 37,
   "metadata": {},
   "outputs": [],
   "source": [
    "plt.savefig('../Resouces/images/07jan2017/income.png',dpi=300, bbox_inches='tight')"
   ]
  },
  {
   "cell_type": "markdown",
   "metadata": {},
   "source": [
    "Lets export the dataset to a csv and use tableau public to visualize this information in a map!"
   ]
  },
  {
   "cell_type": "code",
   "execution_count": 32,
   "metadata": {},
   "outputs": [],
   "source": [
    "# export the dataframe\n",
    "df.to_csv(\"../Resouces/output/07jan2017/countries.csv\", encoding=\"utf-8\", index=False)"
   ]
  },
  {
   "cell_type": "markdown",
   "metadata": {},
   "source": [
    "Income classification for the current 2018 fiscal year is based on the GNI per capita in dollars https://datahelpdesk.worldbank.org/knowledgebase/articles/906519-world-bank-country-and-lending-groups\n",
    "\n",
    "low-income 1,005 or less    \n",
    "lower middle-income 1,006 - 3,955    \n",
    "upper middle-income 3,956 - 12,235     \n",
    "high-income economies 12,236 or more  "
   ]
  },
  {
   "cell_type": "markdown",
   "metadata": {},
   "source": [
    "<img src=\"../Resouces/images/07jan2017/tableau.png\">"
   ]
  }
 ],
 "metadata": {
  "kernelspec": {
   "display_name": "Python 3",
   "language": "python",
   "name": "python3"
  },
  "language_info": {
   "codemirror_mode": {
    "name": "ipython",
    "version": 3
   },
   "file_extension": ".py",
   "mimetype": "text/x-python",
   "name": "python",
   "nbconvert_exporter": "python",
   "pygments_lexer": "ipython3",
   "version": "3.6.2"
  }
 },
 "nbformat": 4,
 "nbformat_minor": 2
}
